{
 "cells": [
  {
   "cell_type": "markdown",
   "metadata": {
    "id": "BpI9eESpkREM"
   },
   "source": [
    "# Ex1: Onehot coding DNA\n",
    "\n",
    "Write a function called **onehot_dna(dna_str)** that allows to encode a DNA segment where each base is encoded as a vector of all zeros except one in a specific position. The result of this function is an array numpy.  DNA is a long chain of repeating bases strung together. There are 4 bases: A, C, G, T. For example, \"AACCCAAATCGGGGG\" is a DNA segment.\n",
    "\n",
    "\n",
    "\n",
    "For example, **onehot_dna('AAT')** should return\n",
    "\n",
    "array([[1, 0, 0, 0],\n",
    "       [1, 0, 0, 0],\n",
    "       [0, 0, 0, 1]])\n",
    "\n",
    "\n",
    "\n",
    "\n"
   ]
  },
  {
   "cell_type": "code",
   "execution_count": 1,
   "metadata": {},
   "outputs": [],
   "source": [
    "import numpy as np\n",
    "import joblib\n",
    "import matplotlib.pyplot as plt\n",
    "import torch\n",
    "import torch.nn as nn\n",
    "from torch.utils.data import DataLoader\n"
   ]
  },
  {
   "cell_type": "code",
   "execution_count": 2,
   "metadata": {
    "id": "YbhaCZP1moii"
   },
   "outputs": [],
   "source": [
    "def onehot_dna(dna_str):\n",
    "    indexes = dict({\"A\": 0, \"C\": 1, \"G\": 2, \"T\": 3})\n",
    "    res = []\n",
    "    \n",
    "    for letter in dna_str:\n",
    "        code = [0] * 4\n",
    "        code[indexes[letter]] = 1\n",
    "        res.append(code)\n",
    "    \n",
    "    return np.array(res)\n"
   ]
  },
  {
   "cell_type": "code",
   "execution_count": 3,
   "metadata": {
    "colab": {
     "base_uri": "https://localhost:8080/"
    },
    "id": "WM-BaQiGo82A",
    "outputId": "a7357e07-2c79-4d10-be96-aa0d8520b702"
   },
   "outputs": [
    {
     "data": {
      "text/plain": [
       "array([[1, 0, 0, 0],\n",
       "       [1, 0, 0, 0],\n",
       "       [0, 0, 0, 1]])"
      ]
     },
     "execution_count": 3,
     "metadata": {},
     "output_type": "execute_result"
    }
   ],
   "source": [
    "onehot_dna('AAT')"
   ]
  },
  {
   "cell_type": "markdown",
   "metadata": {
    "id": "AkSQo19z60n1"
   },
   "source": [
    "# Deep learning to classify Transcription Factor Biding\n",
    "\n",
    "\n",
    "In the next exercises, we will learn how to use Deep learning to predict whether a segment of DNA does include or does not include a sit where JUND binds. (JUND is a particular transcription factor).\n",
    "\n",
    "In this purpose, we will use data that is extracted from the chapter 6 of the book: 'Deep learning for the life science'. This book is written by B.Ramsundar, P.Eastman, P. Walters and V.Pande.\n",
    "\n"
   ]
  },
  {
   "cell_type": "markdown",
   "metadata": {},
   "source": [
    "By looking at the Wikipedia page of the Jund transcription factor, explain what is the use of such protein "
   ]
  },
  {
   "cell_type": "markdown",
   "metadata": {},
   "source": [
    "JunD is a transcription factor encoded by the JUND gene, part of the AP-1 family. It regulates gene expression related to cell proliferation, differentiation, and apoptosis, playing a key role in maintaining cellular balance. JunD also protects against oxidative stress and has potential tumor-suppressing properties."
   ]
  },
  {
   "cell_type": "markdown",
   "metadata": {},
   "source": [
    "\n",
    "Data consist of DNA segments that have been split up from a full chromosome. Each segment is of 101 bases long and has been labeled to indicate whether it does or does not include a site where JUND binds to.\n",
    "\n",
    "\n",
    "This is a binary classification problem.\n",
    "The process of creating a PyTorch neural network binary classifier consists of several steps:\n",
    "\n",
    "1. Prepare the training and test data\n",
    "\n",
    "2. Implement a Dataset object to serve up the data\n",
    "\n",
    "3. Design and implement a neural network\n",
    "\n",
    "4. Write code to train the network\n",
    "\n",
    "5. Write code to evaluate the model (the trained network)\n"
   ]
  },
  {
   "cell_type": "markdown",
   "metadata": {
    "id": "XS8a5oOmOjqO"
   },
   "source": [
    "# Ex 2:  Load Data\n",
    "\n",
    "The data is available here : https://drive.google.com/drive/folders/1-nrTvNvEZo6Px1pnT7IeotKZR7p365UJ?usp=sharing\n",
    "\n",
    "1. With the help of the joblib library, load the following files for training set:  **y_train.joblib**, **X_train.joblib**  and then store the results in variables **y_train, X_train** ,respectively.\n",
    "\n",
    "2. Do the same thing for the test set: load  **y_test.joblib**, **X_test.joblib**  and then store the results in variables **y_test, X_test**, respectively.\n",
    "\n",
    "3. What are the shape of **X_train** and **y_train** ? How many DNA segments are there in traning set ?\n",
    "\n",
    "4. Display a DNA segment from **X_train** (using matplotlib.pyplot.imshow ).\n",
    "\n",
    "5. Plot the histogram of **y_train** to see whether data is imbalanced or not.\n"
   ]
  },
  {
   "cell_type": "code",
   "execution_count": 4,
   "metadata": {
    "id": "NB5Y5StQezcZ"
   },
   "outputs": [],
   "source": [
    "X_train = joblib.load(\"data/X_train.joblib\")\n",
    "y_train = joblib.load(\"data/y_train.joblib\")\n"
   ]
  },
  {
   "cell_type": "code",
   "execution_count": 5,
   "metadata": {
    "id": "FMLs0OOTV4E5"
   },
   "outputs": [],
   "source": [
    "''' Tests X_train, y_train '''\n",
    "assert(X_train.shape == (4672, 101, 4))\n",
    "assert(y_train.shape ==(4672, 1))\n",
    "\n"
   ]
  },
  {
   "cell_type": "code",
   "execution_count": 6,
   "metadata": {
    "id": "9g9rlIr2AAy6"
   },
   "outputs": [],
   "source": [
    "X_test = joblib.load(\"data/X_test.joblib\")\n",
    "y_test = joblib.load(\"data/y_test.joblib\")\n"
   ]
  },
  {
   "cell_type": "code",
   "execution_count": 7,
   "metadata": {
    "id": "RO7DeSen_W_h"
   },
   "outputs": [],
   "source": [
    "''' Tests X_test, y_test'''\n",
    "assert(X_test.shape == (584, 101, 4))\n",
    "assert(y_test.shape ==(584, 1))\n"
   ]
  },
  {
   "cell_type": "markdown",
   "metadata": {},
   "source": [
    "#### Answer to question 3\n",
    "X_train has a shape of (4672, 101, 4) while y_train has a shape of (4672, 1). There are 4672 DNA segments in the training set."
   ]
  },
  {
   "cell_type": "code",
   "execution_count": 8,
   "metadata": {
    "colab": {
     "base_uri": "https://localhost:8080/",
     "height": 101
    },
    "id": "TceRZcS3MENp",
    "outputId": "25a06914-8dbe-425c-f6eb-d0627b622bac"
   },
   "outputs": [
    {
     "data": {
      "image/png": "[encoded data removed]",
      "text/plain": [
       "<Figure size 1000x200 with 2 Axes>"
      ]
     },
     "metadata": {},
     "output_type": "display_data"
    }
   ],
   "source": [
    "plt.figure(figsize=(10, 2))\n",
    "plt.imshow(X_train[0], aspect='auto', interpolation='nearest')\n",
    "plt.colorbar(label='Encoding Value')\n",
    "plt.title('One-Hot Encoded DNA Segment')\n",
    "plt.xlabel('Base Type')\n",
    "plt.ylabel('Base Position')\n",
    "plt.show()\n"
   ]
  },
  {
   "cell_type": "code",
   "execution_count": 9,
   "metadata": {},
   "outputs": [
    {
     "data": {
      "image/png": "[encoded data removed]",
      "text/plain": [
       "<Figure size 600x400 with 1 Axes>"
      ]
     },
     "metadata": {},
     "output_type": "display_data"
    }
   ],
   "source": [
    "plt.figure(figsize=(6, 4))\n",
    "plt.hist(y_train, bins=2, rwidth=0.8, color='skyblue', edgecolor='black')\n",
    "plt.xticks([0.25, 0.75], ['0', '1'])\n",
    "plt.xlabel('Class Label')\n",
    "plt.ylabel('Frequency')\n",
    "plt.title('Histogram of y_train')\n",
    "plt.show()\n"
   ]
  },
  {
   "cell_type": "markdown",
   "metadata": {},
   "source": [
    "We can observe a large imbalance between both classes. Indeed, there are almost 3 times more segments labelled as 0 than segments labelled as 1."
   ]
  },
  {
   "cell_type": "markdown",
   "metadata": {
    "id": "EajNPJrnAmde"
   },
   "source": [
    "# Ex 3: Convert numpy array to tensor pytorch\n",
    "\n",
    "As you see in the previous exercise, **X_train** consists of 4672 segments. Each segment is encoded by 0 and 1 (one-hot encoding).\n",
    "\n",
    "\n",
    "1. Convert numpy array **X_train**, **y_train** into pytorch tensor. Reshape **X_train** to (4672, 4, 101). Note that the type of **X_train** and **y_train** should be float.\n",
    "\n",
    "2. Do the same thing for **X_test** and **y_test**\n"
   ]
  },
  {
   "cell_type": "code",
   "execution_count": 10,
   "metadata": {
    "id": "E8eedW_yPUKu"
   },
   "outputs": [
    {
     "data": {
      "text/plain": [
       "torch.Size([4672, 4, 101])"
      ]
     },
     "execution_count": 10,
     "metadata": {},
     "output_type": "execute_result"
    }
   ],
   "source": [
    "X_train_ts = torch.from_numpy(X_train).to(torch.float32).permute((0, 2, 1))\n",
    "y_train_ts = torch.from_numpy(y_train)\n",
    "X_train_ts.shape"
   ]
  },
  {
   "cell_type": "code",
   "execution_count": 11,
   "metadata": {
    "id": "GrBcHzR-E-yR"
   },
   "outputs": [],
   "source": [
    "''' Tests X_train_ts, y_train_ts '''\n",
    "assert(type(X_train_ts) is torch.Tensor)\n",
    "assert(type(y_train_ts) is torch.Tensor)\n",
    "assert(X_train_ts.shape == (4672, 4, 101))\n"
   ]
  },
  {
   "cell_type": "code",
   "execution_count": 12,
   "metadata": {
    "id": "Wn_0dOuVHWhs"
   },
   "outputs": [
    {
     "data": {
      "text/plain": [
       "torch.Size([584, 4, 101])"
      ]
     },
     "execution_count": 12,
     "metadata": {},
     "output_type": "execute_result"
    }
   ],
   "source": [
    "X_test_ts = torch.from_numpy(X_test).to(torch.float32).permute((0, 2, 1))\n",
    "y_test_ts = torch.from_numpy(y_test)\n",
    "X_test_ts.shape"
   ]
  },
  {
   "cell_type": "code",
   "execution_count": 13,
   "metadata": {
    "id": "o_it3skAH0Yt"
   },
   "outputs": [],
   "source": [
    "''' Tests the above ToDo. '''\n",
    "assert(type(X_test_ts) is torch.Tensor)\n",
    "assert(type(y_test_ts) is torch.Tensor)\n",
    "assert(X_test_ts.shape == (584, 4, 101))\n"
   ]
  },
  {
   "cell_type": "markdown",
   "metadata": {
    "id": "mEYJBjBdg547"
   },
   "source": [
    "# Ex4: Create Dataset\n",
    "In order to train a deep learning model with Pytorch, we need a pytorch dataset.\n",
    "The DNADataset class below allows for creating a pytorch Dataset from DNA segments and their labels.\n",
    "\n",
    "1. Using this class, create a dataset for training set. You should call it **train_dataset**\n",
    "\n",
    "2. Create **Dataloader** from **train_dataset**. You should call it **train_loader**.\n",
    "\n",
    "3. Do the same thing for the test set."
   ]
  },
  {
   "cell_type": "code",
   "execution_count": 14,
   "metadata": {
    "id": "GkvyOQVggLz_"
   },
   "outputs": [],
   "source": [
    "class DNADataset(torch.utils.data.Dataset):\n",
    "    def __init__(self, dna, labels):\n",
    "        self.labels = labels\n",
    "        self.dna = dna\n",
    "\n",
    "\n",
    "    def __len__(self):\n",
    "        return len(self.labels)\n",
    "\n",
    "\n",
    "    def __getitem__(self, idx):\n",
    "        label = self.labels[idx]\n",
    "        frag_dna = self.dna[idx]\n",
    "\n",
    "        sample = {'DNA': frag_dna, 'Class': label}\n",
    "\n",
    "        return sample"
   ]
  },
  {
   "cell_type": "code",
   "execution_count": 15,
   "metadata": {},
   "outputs": [],
   "source": [
    "train_dataset = DNADataset(X_train_ts, y_train_ts)\n",
    "train_loader = DataLoader(train_dataset, batch_size=64, shuffle=True)\n",
    "\n",
    "test_dataset = DNADataset(X_test, y_test)\n",
    "test_loader = DataLoader(test_dataset, batch_size=64, shuffle=True)\n"
   ]
  },
  {
   "cell_type": "markdown",
   "metadata": {
    "id": "O_d7J-rFbiig"
   },
   "source": [
    "**train_loader** is a generator. To get data out of it, you need to loop through it or convert it to an iterator and call next()"
   ]
  },
  {
   "cell_type": "code",
   "execution_count": 16,
   "metadata": {
    "colab": {
     "base_uri": "https://localhost:8080/"
    },
    "id": "PJQK0ZaLMpKF",
    "outputId": "76fb9583-e609-4e26-e954-1c88af29b5bf"
   },
   "outputs": [
    {
     "name": "stdout",
     "output_type": "stream",
     "text": [
      "a batch data  torch.Size([64, 4, 101])\n",
      "Shape of label torch.Size([64, 1])\n"
     ]
    }
   ],
   "source": [
    "data = next(iter(train_loader))\n",
    "dna = data['DNA']\n",
    "label = data['Class']\n",
    "\n",
    "print(\"a batch data \", dna.shape)\n",
    "print(\"Shape of label\", label.shape)"
   ]
  },
  {
   "cell_type": "markdown",
   "metadata": {
    "id": "VDcbP17Rb2xt"
   },
   "source": [
    "# Design and implement a convolutional neural network\n",
    "\n",
    "Now, it's time to build your model. This is a binary classification problem. We can use a convolution neural network, just like an image classification problem. However, since the size of a DNA segment is (4, 101), we will use 1D convolution instead of 2D convolution.\n",
    "\n",
    "\n",
    "\n",
    "Firstly, we will test how does a 1D convolution work on our data.\n",
    "\n"
   ]
  },
  {
   "cell_type": "markdown",
   "metadata": {
    "id": "xlPP4E3UfRYe"
   },
   "source": [
    "# EX 5: 1D Convolution\n",
    "\n",
    "1. With the help of the torch.nn.Conv1d class, create a 1D convolutional layer. You need to choose values for the following parameters: **in_channels**, **out_channels**, **kernel_size**.\n",
    "\n",
    "\n",
    "2. Apply this layer to **dna_seg** below. What is the size of the output ?\n",
    "\n",
    "\n",
    "3. [Optional] Display the output by using matplotlib.pyplot.imshow\n",
    "\n",
    "\n"
   ]
  },
  {
   "cell_type": "code",
   "execution_count": 17,
   "metadata": {
    "id": "C9y0yRXhhj1F"
   },
   "outputs": [],
   "source": [
    "data = next(iter(train_loader))\n",
    "dna_seg = data['DNA']\n",
    "y = data['Class']\n"
   ]
  },
  {
   "cell_type": "code",
   "execution_count": 18,
   "metadata": {
    "colab": {
     "base_uri": "https://localhost:8080/"
    },
    "id": "FJ9uE489imxl",
    "outputId": "b57cbf60-51b3-4746-e815-f58e24772b90"
   },
   "outputs": [
    {
     "data": {
      "text/plain": [
       "torch.Size([64, 8, 97])"
      ]
     },
     "execution_count": 18,
     "metadata": {},
     "output_type": "execute_result"
    }
   ],
   "source": [
    "in_channels = 4\n",
    "out_channels = 8\n",
    "kernel_size = 5\n",
    "\n",
    "conv1d_layer = nn.Conv1d(in_channels, out_channels, kernel_size)\n",
    "output = conv1d_layer(dna_seg)\n",
    "output_shape = output.shape\n",
    "\n",
    "output_shape"
   ]
  },
  {
   "cell_type": "code",
   "execution_count": 19,
   "metadata": {},
   "outputs": [
    {
     "data": {
      "image/png": "[encoded data removed]",
      "text/plain": [
       "<Figure size 1200x600 with 2 Axes>"
      ]
     },
     "metadata": {},
     "output_type": "display_data"
    }
   ],
   "source": [
    "output_np = output.detach().numpy()[0]\n",
    "\n",
    "plt.figure(figsize=(12, 6))\n",
    "plt.imshow(output_np, aspect='auto', cmap='viridis')\n",
    "plt.colorbar(label='Activation Value')\n",
    "plt.title('Output of 1D Convolutional Layer')\n",
    "plt.xlabel('Position in Sequence')\n",
    "plt.ylabel('Output Channel')\n",
    "plt.show()"
   ]
  },
  {
   "cell_type": "markdown",
   "metadata": {
    "id": "H26rAy0wkbca"
   },
   "source": [
    "# EX 6: Build a model\n",
    "\n",
    "Create a 3 layer 1-dimensional network to classify the TF binding sites"
   ]
  },
  {
   "cell_type": "code",
   "execution_count": 20,
   "metadata": {
    "id": "L_bs8O3lhB7m"
   },
   "outputs": [],
   "source": [
    "import torch.nn as nn\n",
    "import torch.nn.functional as F\n",
    "\n",
    "class DeepDNA(nn.Module):\n",
    "  def __init__(self, input_length):\n",
    "    super(DeepDNA, self).__init__()\n",
    "\n",
    "    self.conv1 = nn.Conv1d(in_channels=4, out_channels=16, kernel_size=5, stride=1, padding=2)\n",
    "    self.pool1 = nn.MaxPool1d(kernel_size=2, stride=2)\n",
    "\n",
    "    self.conv2 = nn.Conv1d(in_channels=16, out_channels=32, kernel_size=5, stride=1, padding=2)\n",
    "    self.pool2 = nn.MaxPool1d(kernel_size=2, stride=2)\n",
    "\n",
    "    self.conv3 = nn.Conv1d(in_channels=32, out_channels=64, kernel_size=5, stride=1, padding=2)\n",
    "    self.pool3 = nn.MaxPool1d(kernel_size=2, stride=2)\n",
    "\n",
    "    output_length = input_length // 8\n",
    "    self.fc = nn.Linear(64 * output_length, 1)\n",
    "    \n",
    "  def forward(self, x):\n",
    "    x = self.pool1(F.relu(self.conv1(x)))\n",
    "    x = self.pool2(F.relu(self.conv2(x)))\n",
    "    x = self.pool3(F.relu(self.conv3(x)))\n",
    "\n",
    "    x = x.view(x.size(0), -1)\n",
    "\n",
    "    x = torch.sigmoid(self.fc(x))\n",
    "\n",
    "    return x\n",
    "\n"
   ]
  },
  {
   "cell_type": "markdown",
   "metadata": {
    "id": "HVbFqM4laclu"
   },
   "source": [
    "# Ex 7 Test the model\n",
    "\n",
    "\n",
    "1. Create an instance of the DeepDNA class named **net**.\n",
    "\n",
    "2. Print out the variable **net** to see detailed information about the model.\n",
    "\n",
    "3. Pass **dna_seg** below to **net** in order to  test if your model **net** works well.\n",
    "\n",
    "4. What is the size of the output ?\n",
    "\n"
   ]
  },
  {
   "cell_type": "code",
   "execution_count": 21,
   "metadata": {
    "colab": {
     "base_uri": "https://localhost:8080/"
    },
    "id": "ladQCir7btvX",
    "outputId": "557662ec-4e25-47aa-dd92-ee56348aeab0"
   },
   "outputs": [
    {
     "name": "stdout",
     "output_type": "stream",
     "text": [
      "the output of the model  tensor([[0.5122],\n",
      "        [0.5144],\n",
      "        [0.5195],\n",
      "        [0.5157],\n",
      "        [0.5183]], grad_fn=<SliceBackward0>)\n"
     ]
    }
   ],
   "source": [
    "dna_seg = data['DNA']\n",
    "\n",
    "net = DeepDNA(101)\n",
    "out = net(dna_seg)\n",
    "\n",
    "print(\"the output of the model \", out[:5])\n",
    "\n"
   ]
  },
  {
   "cell_type": "code",
   "execution_count": 22,
   "metadata": {
    "colab": {
     "base_uri": "https://localhost:8080/"
    },
    "id": "RFzp7DbtlTwG",
    "outputId": "24e73025-a469-4042-b77f-d3d19ba0e2ec"
   },
   "outputs": [
    {
     "name": "stdout",
     "output_type": "stream",
     "text": [
      "DeepDNA(\n",
      "  (conv1): Conv1d(4, 16, kernel_size=(5,), stride=(1,), padding=(2,))\n",
      "  (pool1): MaxPool1d(kernel_size=2, stride=2, padding=0, dilation=1, ceil_mode=False)\n",
      "  (conv2): Conv1d(16, 32, kernel_size=(5,), stride=(1,), padding=(2,))\n",
      "  (pool2): MaxPool1d(kernel_size=2, stride=2, padding=0, dilation=1, ceil_mode=False)\n",
      "  (conv3): Conv1d(32, 64, kernel_size=(5,), stride=(1,), padding=(2,))\n",
      "  (pool3): MaxPool1d(kernel_size=2, stride=2, padding=0, dilation=1, ceil_mode=False)\n",
      "  (fc): Linear(in_features=768, out_features=1, bias=True)\n",
      ")\n"
     ]
    }
   ],
   "source": [
    "print(net)"
   ]
  },
  {
   "cell_type": "code",
   "execution_count": 23,
   "metadata": {},
   "outputs": [
    {
     "name": "stdout",
     "output_type": "stream",
     "text": [
      "torch.Size([64, 1])\n"
     ]
    }
   ],
   "source": [
    "print(out.shape)"
   ]
  },
  {
   "cell_type": "markdown",
   "metadata": {},
   "source": [
    "The output has a shape of (64, 1). Hence, it has a length of 64 values."
   ]
  },
  {
   "cell_type": "markdown",
   "metadata": {
    "id": "yypmG11hr_so"
   },
   "source": [
    "# Ex 8: Define loss function and optimizer\n",
    "\n",
    "\n",
    "1. Define an SGD optimizer for the model. You need to choose the learning rate for your model.\n",
    "\n",
    "2. Define a Binary Cross Entropy (BCE) Loss  function.\n"
   ]
  },
  {
   "cell_type": "code",
   "execution_count": 24,
   "metadata": {
    "id": "uZwQKSrxh1A_"
   },
   "outputs": [],
   "source": [
    "criterion = nn.BCELoss()\n",
    "optimizer = torch.optim.SGD(net.parameters(), lr = 0.001)\n"
   ]
  },
  {
   "cell_type": "markdown",
   "metadata": {
    "id": "7rEjVjhetI6A"
   },
   "source": [
    "# Ex 9: Training your model\n",
    "\n",
    "The following function allows to train the model for one epoch. This function returns total loss per epoch.\n",
    "Implement the training pass for this function.\n",
    "\n",
    "\n",
    "\n",
    "The general process with PyTorch for one learning step consits of several steps:\n",
    "\n",
    "1. Make a forward pass through the network\n",
    "2. Use the network output to calculate the loss\n",
    "3. Perform a backward pass through the network with loss.backward() to calculate the gradients\n",
    "4. Take a step with the optimizer to update the weights\n",
    "\n"
   ]
  },
  {
   "cell_type": "code",
   "execution_count": 25,
   "metadata": {
    "id": "oAil9eU9iNCf"
   },
   "outputs": [],
   "source": [
    "def train():\n",
    "    net.train()\n",
    "    loss_epoch = 0\n",
    "    batch_count = 0\n",
    "\n",
    "    for batch_data in train_loader:\n",
    "        inputs = batch_data['DNA'].float()\n",
    "        labels = batch_data['Class']\n",
    "\n",
    "        optimizer.zero_grad()\n",
    "\n",
    "        outputs = net(inputs)\n",
    "        loss = criterion(outputs, labels.to(torch.float32))\n",
    "\n",
    "        loss.backward()\n",
    "        optimizer.step()\n",
    "\n",
    "        loss_epoch += loss.item()\n",
    "        batch_count += 1\n",
    "       \n",
    "\n",
    "    return loss_epoch / batch_count"
   ]
  },
  {
   "cell_type": "markdown",
   "metadata": {
    "id": "Pz0VV2Oenftq"
   },
   "source": [
    "# Ex 11: Accuracy Calculation\n",
    "\n",
    "Write a function named **compute_num_correct_pred(y_prob, y_label)** that allows to compute the number of correct predictions. **y_prob** and **y_label** should be pytorch tensors.\n",
    "\n",
    "For example,\n",
    "y_prob = [[0.3],[0.4], [0.8], [0.7]].\n",
    "\n",
    "y = [[0], [1], [1], [0]].\n",
    "\n",
    "This function should return 2."
   ]
  },
  {
   "cell_type": "code",
   "execution_count": 26,
   "metadata": {
    "id": "JZ3cRawWpFe7"
   },
   "outputs": [],
   "source": [
    "def compute_num_correct_pred(y_prob, y_label):\n",
    "    res = 0\n",
    "    y_p = y_prob.round().to(torch.int)\n",
    "    \n",
    "    for v1, v2 in zip(y_label, y_p):\n",
    "        if v1 == v2:\n",
    "            res += 1\n",
    "    \n",
    "    return res\n"
   ]
  },
  {
   "cell_type": "code",
   "execution_count": 27,
   "metadata": {},
   "outputs": [
    {
     "data": {
      "text/plain": [
       "2"
      ]
     },
     "execution_count": 27,
     "metadata": {},
     "output_type": "execute_result"
    }
   ],
   "source": [
    "compute_num_correct_pred(torch.tensor([[0.3], [0.4], [0.8], [0.7]]), torch.tensor([[0], [1], [1], [0]]))\n"
   ]
  },
  {
   "cell_type": "markdown",
   "metadata": {
    "id": "3N_g4DA-vex8"
   },
   "source": [
    "\n",
    "The function below allows to calculate the accuracy of the model on dataset loader. Execute this function to see if you implemented the compute_num_correct_pred function correctly."
   ]
  },
  {
   "cell_type": "code",
   "execution_count": 28,
   "metadata": {
    "id": "FY9V2-NCvv25"
   },
   "outputs": [],
   "source": [
    "def test(loader):\n",
    "  net.eval()\n",
    "\n",
    "  correct = 0\n",
    "  with torch.no_grad():\n",
    "    for data in loader:\n",
    "      dna = data['DNA'].float()\n",
    "      y = data['Class']\n",
    "      \n",
    "      dna = dna.permute((0, 2, 1))\n",
    "      out = net(dna)\n",
    "\n",
    "      correct += compute_num_correct_pred(out, y)\n",
    "\n",
    "  return correct / len(loader.dataset)"
   ]
  },
  {
   "cell_type": "markdown",
   "metadata": {
    "id": "I0vTKeeQ3wGb"
   },
   "source": [
    "# Ex 12: Training the model\n",
    "\n",
    "The code below allows to train your model on 10 epoches. If all work well, you should see the training loss drop with each epoch.\n",
    "\n",
    "train the model for 2000 epochs"
   ]
  },
  {
   "cell_type": "code",
   "execution_count": 29,
   "metadata": {
    "colab": {
     "base_uri": "https://localhost:8080/"
    },
    "id": "K-vkWpKLixGE",
    "outputId": "7f41715a-8840-4529-cb4c-c6f76d84bf5e"
   },
   "outputs": [
    {
     "name": "stdout",
     "output_type": "stream",
     "text": [
      "Epoch [10/2000], Train Loss: 0.5702\n",
      "Epoch [20/2000], Train Loss: 0.5628\n",
      "Epoch [30/2000], Train Loss: 0.5628\n",
      "Epoch [40/2000], Train Loss: 0.5627\n",
      "Epoch [50/2000], Train Loss: 0.5626\n",
      "Epoch [60/2000], Train Loss: 0.5626\n",
      "Epoch [70/2000], Train Loss: 0.5625\n",
      "Epoch [80/2000], Train Loss: 0.5625\n",
      "Epoch [90/2000], Train Loss: 0.5624\n",
      "Epoch [100/2000], Train Loss: 0.5623\n",
      "Epoch [110/2000], Train Loss: 0.5623\n",
      "Epoch [120/2000], Train Loss: 0.5622\n",
      "Epoch [130/2000], Train Loss: 0.5622\n",
      "Epoch [140/2000], Train Loss: 0.5621\n",
      "Epoch [150/2000], Train Loss: 0.5621\n",
      "Epoch [160/2000], Train Loss: 0.5620\n",
      "Epoch [170/2000], Train Loss: 0.5620\n",
      "Epoch [180/2000], Train Loss: 0.5619\n",
      "Epoch [190/2000], Train Loss: 0.5619\n",
      "Epoch [200/2000], Train Loss: 0.5618\n",
      "Epoch [210/2000], Train Loss: 0.5618\n",
      "Epoch [220/2000], Train Loss: 0.5617\n",
      "Epoch [230/2000], Train Loss: 0.5617\n",
      "Epoch [240/2000], Train Loss: 0.5616\n",
      "Epoch [250/2000], Train Loss: 0.5616\n",
      "Epoch [260/2000], Train Loss: 0.5615\n",
      "Epoch [270/2000], Train Loss: 0.5615\n",
      "Epoch [280/2000], Train Loss: 0.5614\n",
      "Epoch [290/2000], Train Loss: 0.5613\n",
      "Epoch [300/2000], Train Loss: 0.5613\n",
      "Epoch [310/2000], Train Loss: 0.5612\n",
      "Epoch [320/2000], Train Loss: 0.5612\n",
      "Epoch [330/2000], Train Loss: 0.5611\n",
      "Epoch [340/2000], Train Loss: 0.5611\n",
      "Epoch [350/2000], Train Loss: 0.5610\n",
      "Epoch [360/2000], Train Loss: 0.5610\n",
      "Epoch [370/2000], Train Loss: 0.5609\n",
      "Epoch [380/2000], Train Loss: 0.5609\n",
      "Epoch [390/2000], Train Loss: 0.5608\n",
      "Epoch [400/2000], Train Loss: 0.5608\n",
      "Epoch [410/2000], Train Loss: 0.5607\n",
      "Epoch [420/2000], Train Loss: 0.5607\n",
      "Epoch [430/2000], Train Loss: 0.5606\n",
      "Epoch [440/2000], Train Loss: 0.5605\n",
      "Epoch [450/2000], Train Loss: 0.5605\n",
      "Epoch [460/2000], Train Loss: 0.5604\n",
      "Epoch [470/2000], Train Loss: 0.5604\n",
      "Epoch [480/2000], Train Loss: 0.5603\n",
      "Epoch [490/2000], Train Loss: 0.5603\n",
      "Epoch [500/2000], Train Loss: 0.5602\n",
      "Epoch [510/2000], Train Loss: 0.5601\n",
      "Epoch [520/2000], Train Loss: 0.5601\n",
      "Epoch [530/2000], Train Loss: 0.5600\n",
      "Epoch [540/2000], Train Loss: 0.5600\n",
      "Epoch [550/2000], Train Loss: 0.5599\n",
      "Epoch [560/2000], Train Loss: 0.5598\n",
      "Epoch [570/2000], Train Loss: 0.5598\n",
      "Epoch [580/2000], Train Loss: 0.5597\n",
      "Epoch [590/2000], Train Loss: 0.5597\n",
      "Epoch [600/2000], Train Loss: 0.5596\n",
      "Epoch [610/2000], Train Loss: 0.5595\n",
      "Epoch [620/2000], Train Loss: 0.5594\n",
      "Epoch [630/2000], Train Loss: 0.5594\n",
      "Epoch [640/2000], Train Loss: 0.5593\n",
      "Epoch [650/2000], Train Loss: 0.5592\n",
      "Epoch [660/2000], Train Loss: 0.5592\n",
      "Epoch [670/2000], Train Loss: 0.5591\n",
      "Epoch [680/2000], Train Loss: 0.5590\n",
      "Epoch [690/2000], Train Loss: 0.5589\n",
      "Epoch [700/2000], Train Loss: 0.5589\n",
      "Epoch [710/2000], Train Loss: 0.5588\n",
      "Epoch [720/2000], Train Loss: 0.5587\n",
      "Epoch [730/2000], Train Loss: 0.5586\n",
      "Epoch [740/2000], Train Loss: 0.5586\n",
      "Epoch [750/2000], Train Loss: 0.5585\n",
      "Epoch [760/2000], Train Loss: 0.5584\n",
      "Epoch [770/2000], Train Loss: 0.5583\n",
      "Epoch [780/2000], Train Loss: 0.5582\n",
      "Epoch [790/2000], Train Loss: 0.5581\n",
      "Epoch [800/2000], Train Loss: 0.5580\n",
      "Epoch [810/2000], Train Loss: 0.5580\n",
      "Epoch [820/2000], Train Loss: 0.5579\n",
      "Epoch [830/2000], Train Loss: 0.5578\n",
      "Epoch [840/2000], Train Loss: 0.5577\n",
      "Epoch [850/2000], Train Loss: 0.5576\n",
      "Epoch [860/2000], Train Loss: 0.5575\n",
      "Epoch [870/2000], Train Loss: 0.5574\n",
      "Epoch [880/2000], Train Loss: 0.5573\n",
      "Epoch [890/2000], Train Loss: 0.5572\n",
      "Epoch [900/2000], Train Loss: 0.5571\n",
      "Epoch [910/2000], Train Loss: 0.5570\n",
      "Epoch [920/2000], Train Loss: 0.5569\n",
      "Epoch [930/2000], Train Loss: 0.5568\n",
      "Epoch [940/2000], Train Loss: 0.5567\n",
      "Epoch [950/2000], Train Loss: 0.5565\n",
      "Epoch [960/2000], Train Loss: 0.5564\n",
      "Epoch [970/2000], Train Loss: 0.5563\n",
      "Epoch [980/2000], Train Loss: 0.5561\n",
      "Epoch [990/2000], Train Loss: 0.5560\n",
      "Epoch [1000/2000], Train Loss: 0.5559\n",
      "Epoch [1010/2000], Train Loss: 0.5558\n",
      "Epoch [1020/2000], Train Loss: 0.5556\n",
      "Epoch [1030/2000], Train Loss: 0.5555\n",
      "Epoch [1040/2000], Train Loss: 0.5553\n",
      "Epoch [1050/2000], Train Loss: 0.5552\n",
      "Epoch [1060/2000], Train Loss: 0.5550\n",
      "Epoch [1070/2000], Train Loss: 0.5548\n",
      "Epoch [1080/2000], Train Loss: 0.5547\n",
      "Epoch [1090/2000], Train Loss: 0.5545\n",
      "Epoch [1100/2000], Train Loss: 0.5543\n",
      "Epoch [1110/2000], Train Loss: 0.5542\n",
      "Epoch [1120/2000], Train Loss: 0.5540\n",
      "Epoch [1130/2000], Train Loss: 0.5538\n",
      "Epoch [1140/2000], Train Loss: 0.5536\n",
      "Epoch [1150/2000], Train Loss: 0.5534\n",
      "Epoch [1160/2000], Train Loss: 0.5532\n",
      "Epoch [1170/2000], Train Loss: 0.5530\n",
      "Epoch [1180/2000], Train Loss: 0.5527\n",
      "Epoch [1190/2000], Train Loss: 0.5525\n",
      "Epoch [1200/2000], Train Loss: 0.5522\n",
      "Epoch [1210/2000], Train Loss: 0.5520\n",
      "Epoch [1220/2000], Train Loss: 0.5518\n",
      "Epoch [1230/2000], Train Loss: 0.5515\n",
      "Epoch [1240/2000], Train Loss: 0.5512\n",
      "Epoch [1250/2000], Train Loss: 0.5509\n",
      "Epoch [1260/2000], Train Loss: 0.5506\n",
      "Epoch [1270/2000], Train Loss: 0.5503\n",
      "Epoch [1280/2000], Train Loss: 0.5500\n",
      "Epoch [1290/2000], Train Loss: 0.5497\n",
      "Epoch [1300/2000], Train Loss: 0.5493\n",
      "Epoch [1310/2000], Train Loss: 0.5490\n",
      "Epoch [1320/2000], Train Loss: 0.5486\n",
      "Epoch [1330/2000], Train Loss: 0.5483\n",
      "Epoch [1340/2000], Train Loss: 0.5478\n",
      "Epoch [1350/2000], Train Loss: 0.5475\n",
      "Epoch [1360/2000], Train Loss: 0.5470\n",
      "Epoch [1370/2000], Train Loss: 0.5465\n",
      "Epoch [1380/2000], Train Loss: 0.5461\n",
      "Epoch [1390/2000], Train Loss: 0.5457\n",
      "Epoch [1400/2000], Train Loss: 0.5452\n",
      "Epoch [1410/2000], Train Loss: 0.5447\n",
      "Epoch [1420/2000], Train Loss: 0.5443\n",
      "Epoch [1430/2000], Train Loss: 0.5437\n",
      "Epoch [1440/2000], Train Loss: 0.5432\n",
      "Epoch [1450/2000], Train Loss: 0.5426\n",
      "Epoch [1460/2000], Train Loss: 0.5420\n",
      "Epoch [1470/2000], Train Loss: 0.5414\n",
      "Epoch [1480/2000], Train Loss: 0.5409\n",
      "Epoch [1490/2000], Train Loss: 0.5403\n",
      "Epoch [1500/2000], Train Loss: 0.5396\n",
      "Epoch [1510/2000], Train Loss: 0.5391\n",
      "Epoch [1520/2000], Train Loss: 0.5382\n",
      "Epoch [1530/2000], Train Loss: 0.5378\n",
      "Epoch [1540/2000], Train Loss: 0.5371\n",
      "Epoch [1550/2000], Train Loss: 0.5365\n",
      "Epoch [1560/2000], Train Loss: 0.5358\n",
      "Epoch [1570/2000], Train Loss: 0.5352\n",
      "Epoch [1580/2000], Train Loss: 0.5345\n",
      "Epoch [1590/2000], Train Loss: 0.5338\n",
      "Epoch [1600/2000], Train Loss: 0.5331\n",
      "Epoch [1610/2000], Train Loss: 0.5325\n",
      "Epoch [1620/2000], Train Loss: 0.5319\n",
      "Epoch [1630/2000], Train Loss: 0.5313\n",
      "Epoch [1640/2000], Train Loss: 0.5301\n",
      "Epoch [1650/2000], Train Loss: 0.5297\n",
      "Epoch [1660/2000], Train Loss: 0.5290\n",
      "Epoch [1670/2000], Train Loss: 0.5277\n",
      "Epoch [1680/2000], Train Loss: 0.5275\n",
      "Epoch [1690/2000], Train Loss: 0.5269\n",
      "Epoch [1700/2000], Train Loss: 0.5264\n",
      "Epoch [1710/2000], Train Loss: 0.5256\n",
      "Epoch [1720/2000], Train Loss: 0.5248\n",
      "Epoch [1730/2000], Train Loss: 0.5239\n",
      "Epoch [1740/2000], Train Loss: 0.5233\n",
      "Epoch [1750/2000], Train Loss: 0.5230\n",
      "Epoch [1760/2000], Train Loss: 0.5223\n",
      "Epoch [1770/2000], Train Loss: 0.5213\n",
      "Epoch [1780/2000], Train Loss: 0.5209\n",
      "Epoch [1790/2000], Train Loss: 0.5201\n",
      "Epoch [1800/2000], Train Loss: 0.5196\n",
      "Epoch [1810/2000], Train Loss: 0.5188\n",
      "Epoch [1820/2000], Train Loss: 0.5183\n",
      "Epoch [1830/2000], Train Loss: 0.5182\n",
      "Epoch [1840/2000], Train Loss: 0.5170\n",
      "Epoch [1850/2000], Train Loss: 0.5161\n",
      "Epoch [1860/2000], Train Loss: 0.5159\n",
      "Epoch [1870/2000], Train Loss: 0.5155\n",
      "Epoch [1880/2000], Train Loss: 0.5146\n",
      "Epoch [1890/2000], Train Loss: 0.5139\n",
      "Epoch [1900/2000], Train Loss: 0.5123\n",
      "Epoch [1910/2000], Train Loss: 0.5123\n",
      "Epoch [1920/2000], Train Loss: 0.5116\n",
      "Epoch [1930/2000], Train Loss: 0.5118\n",
      "Epoch [1940/2000], Train Loss: 0.5105\n",
      "Epoch [1950/2000], Train Loss: 0.5101\n",
      "Epoch [1960/2000], Train Loss: 0.5094\n",
      "Epoch [1970/2000], Train Loss: 0.5094\n",
      "Epoch [1980/2000], Train Loss: 0.5079\n",
      "Epoch [1990/2000], Train Loss: 0.5079\n",
      "Epoch [2000/2000], Train Loss: 0.5075\n",
      "Training complete.\n"
     ]
    }
   ],
   "source": [
    "num_epochs = 2000\n",
    "train_losses = []\n",
    "test_accuracies = []\n",
    "\n",
    "for epoch in range(num_epochs):\n",
    "    train_loss = train()\n",
    "    test_accuracy = test(test_loader)\n",
    "\n",
    "    if (epoch + 1) % 10 == 0:\n",
    "        print(f\"Epoch [{epoch + 1}/{num_epochs}], Train Loss: {train_loss:.4f}\")\n",
    "\n",
    "    train_losses.append(train_loss)\n",
    "    test_accuracies.append(test_accuracy)\n",
    "\n",
    "print(\"Training complete.\")\n"
   ]
  },
  {
   "cell_type": "markdown",
   "metadata": {
    "id": "WX_FGbp4tV0Z"
   },
   "source": [
    "# Ex13 (optional)\n",
    "\n",
    "\n",
    "\n",
    "1. If we use torch.nn.BCEWithLogitsLoss(), what does we need to change to the definition of the model ?\n",
    "\n",
    "\n",
    "\n",
    "2. The same question for torch.nn.CrossEntropyLoss() loss.  "
   ]
  },
  {
   "cell_type": "markdown",
   "metadata": {},
   "source": [
    "1. BCEWithLogitsLoss combines a sigmoid activation with binary cross-entropy loss. This means that if we use this loss function, we don't need to apply the sigmoid activation manually in the model. We can then remove it from the forward function of our model\n",
    "\n",
    "2. CrossEntropyLoss is used for multi-class classification. It expects the model output to be raw logits for each class, and the target labels should be integers representing class indices. Hence, we will need to change the output layer of the model to predict multiple classes (in our case, we will need 2 outputs instead of 1 since it is a binary classification task)."
   ]
  }
 ],
 "metadata": {
  "colab": {
   "provenance": []
  },
  "kernelspec": {
   "display_name": "venv",
   "language": "python",
   "name": "python3"
  },
  "language_info": {
   "codemirror_mode": {
    "name": "ipython",
    "version": 3
   },
   "file_extension": ".py",
   "mimetype": "text/x-python",
   "name": "python",
   "nbconvert_exporter": "python",
   "pygments_lexer": "ipython3",
   "version": "3.12.6"
  }
 },
 "nbformat": 4,
 "nbformat_minor": 4
}
